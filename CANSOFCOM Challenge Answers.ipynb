{
 "cells": [
  {
   "cell_type": "markdown",
   "metadata": {},
   "source": [
    "# Challenge: Machine Learning for Drone Identification\n",
    "In this Jupyter notebook are contained the short answers/invocations of appropriate code in response to the assignment components of the challenge in question. However, most of the long-winded implementation is hidden away in `.py` files we wrote, that are imported here. Thus, for this to work, it is recommended you clone the entirety of [our associated Github repo](https://github.com/DanielShteinbok/CANSOFCOM_Drone_2021), and opening the Jupyter notebook contained within that (it's this one, but its location within the repo simply ensures that local imports work properly with minimal troubleshooting).\n",
    "\n",
    "**Additional dependencies** are as follows:\n",
    "* `scipy`\n",
    "* `numpy`\n",
    "* `matplotlib`\n",
    "\n",
    "**TODO:** add further dependencies for ML...\n"
   ]
  },
  {
   "cell_type": "code",
   "execution_count": 4,
   "metadata": {},
   "outputs": [],
   "source": [
    "# This is our implementation of the signal returned from the drone\n",
    "import drone_signal\n",
    "\n",
    "# See additional dependencies:\n",
    "import scipy\n",
    "import matplotlib"
   ]
  },
  {
   "cell_type": "markdown",
   "metadata": {},
   "source": []
  }
 ],
 "metadata": {
  "kernelspec": {
   "display_name": "Python 3",
   "language": "python",
   "name": "python3"
  },
  "language_info": {
   "codemirror_mode": {
    "name": "ipython",
    "version": 3
   },
   "file_extension": ".py",
   "mimetype": "text/x-python",
   "name": "python",
   "nbconvert_exporter": "python",
   "pygments_lexer": "ipython3",
   "version": "3.9.1"
  }
 },
 "nbformat": 4,
 "nbformat_minor": 4
}
