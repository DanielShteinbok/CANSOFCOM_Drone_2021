{
 "cells": [
  {
   "cell_type": "markdown",
   "metadata": {},
   "source": [
    "# Challenge: Machine Learning for Drone Identification\n",
    "In this Jupyter notebook are contained the short answers/invocations of appropriate code in response to the assignment components of the challenge in question. However, most of the long-winded implementation is hidden away in `.py` files we wrote, that are imported here. Thus, for this to work, it is recommended you clone the entirety of [our associated Github repo](https://github.com/DanielShteinbok/CANSOFCOM_Drone_2021), and opening the Jupyter notebook contained within that (it's this one, but its location within the repo simply ensures that local imports work properly with minimal troubleshooting).\n",
    "\n",
    "**Additional dependencies** are as follows:\n",
    "* `scipy`\n",
    "* `numpy`\n",
    "* `matplotlib`\n",
    "\n",
    "**TODO:** add further dependencies for ML...\n"
   ]
  },
  {
   "cell_type": "code",
   "execution_count": 7,
   "metadata": {},
   "outputs": [],
   "source": [
    "# This is our implementation of the signal returned from the drone\n",
    "import drone_signal\n",
    "\n",
    "# See additional dependencies:\n",
    "import scipy.signal\n",
    "import numpy\n",
    "import matplotlib.pyplot"
   ]
  },
  {
   "cell_type": "markdown",
   "metadata": {},
   "source": [
    "## 1. Implement Time-Domain Radar Return Signals from Drones\n",
    "The actual implementation for this is contained within the function `drone_signal.return_signal_array`. The variables we chose as representative values are set in a code block below, and the meanings are as follow:\n",
    "\n",
    "\n",
    "`Ar` is $A_r$ in the equation, the real scale factor,\n",
    "\n",
    "`L1` is $L_1$ in the equation, the distance of the blade roots from the centre of rotation in metres,\n",
    "\n",
    "`L2` is $L_2$ in the equation, the distance of the blade tips from the centre of rotation in metres,\n",
    "\n",
    "`N` is $N$ in the equation, number of blades,\n",
    "\n",
    "`R` is $R$ in the equation, range of the centre of rotation (distance from the radar receiver) in metres,\n",
    "\n",
    "`Vrad` is $V_{rad}$ in the equation, radial velocity in metres per second,\n",
    "\n",
    "`lam` is $\\lambda$ in the equation, the wavelength of the transmitted signal in metres,\n",
    "\n",
    "`theta` is $\\theta$ in the equation, the angle between the plane of rotation and the line of sight from the radar to the centre of rotation, in radians\n",
    "\n",
    "`fc` is $f_c$ in the equation, the transmitted frequency (assumed to be $f_c = \\frac{c}{\\lambda}$, where $c$ is the speed of light\n",
    "\n",
    "`frot` is $f_{rot}$ in the equation, the frequency of rotation in Hertz"
   ]
  },
  {
   "cell_type": "code",
   "execution_count": 8,
   "metadata": {},
   "outputs": [],
   "source": [
    "Ar = 1\n",
    "L1 = 0.25\n",
    "L2 = 1\n",
    "N = 4\n",
    "R = 0\n",
    "Vrad = 0\n",
    "\n",
    "theta = 0\n",
    "lam = 0.2 #wavelength wavelength = c / frequency\n",
    "fc = 299792458/lam #60 GHz\n",
    "fs = 10000000 #sampling frequency\n",
    "frot = 40 #frequency of drone prop rotation"
   ]
  },
  {
   "cell_type": "markdown",
   "metadata": {},
   "source": [
    "The next step is to create the numpy array of the times at which the returning frequency is sampled:"
   ]
  },
  {
   "cell_type": "code",
   "execution_count": 9,
   "metadata": {},
   "outputs": [],
   "source": [
    "# we are looking at a 0.1 second interval starting at 0 and iterating by\n",
    "# the time between samples\n",
    "time_array = numpy.arange(0, 0.1, 1/fs)"
   ]
  },
  {
   "cell_type": "markdown",
   "metadata": {},
   "source": [
    "And now, we will actually use the written function to simulate the returned signal. The amplitude is the real component of the returned signal wave function:"
   ]
  },
  {
   "cell_type": "code",
   "execution_count": 10,
   "metadata": {
    "scrolled": true
   },
   "outputs": [],
   "source": [
    "amplitudes_array = drone_signal.return_signal_array(Ar, L1, L2, N, R, Vrad, lam, theta, fc, frot, time_array).real"
   ]
  },
  {
   "cell_type": "markdown",
   "metadata": {},
   "source": [
    "Here, we plot the amplitude as a function of time over the sampled period, discarding the imaginary component. "
   ]
  },
  {
   "cell_type": "code",
   "execution_count": 11,
   "metadata": {},
   "outputs": [
    {
     "data": {
      "text/plain": [
       "[<matplotlib.lines.Line2D at 0x7f1158651c10>]"
      ]
     },
     "execution_count": 11,
     "metadata": {},
     "output_type": "execute_result"
    },
    {
     "data": {
      "image/png": "[encoded data removed]",
      "text/plain": [
       "<Figure size 432x288 with 1 Axes>"
      ]
     },
     "metadata": {
      "needs_background": "light"
     },
     "output_type": "display_data"
    }
   ],
   "source": [
    "matplotlib.pyplot.plot(time_array, amplitudes_array)"
   ]
  },
  {
   "cell_type": "markdown",
   "metadata": {},
   "source": [
    "For the Short-Time Fourier Transform (STFT), the two useful tapered window sizes (as per the first reference in the assignment PDF) are either smaller than the period of the rotation, or larger than the period of rotation. Respectively, the small and large window sizes we use here will be $\\frac{1}{2f_{rot}}$ and $\\frac{2}{f_{rot}}$."
   ]
  },
  {
   "cell_type": "code",
   "execution_count": 14,
   "metadata": {},
   "outputs": [],
   "source": [
    "small_window = 1/(2*frot)\n",
    "s_f, s_t, s_Zxx = scipy.signal.stft(amplitudes_array, 1/small_window)\n",
    "\n",
    "large_window = 2/frot\n",
    "l_f, l_t, l_Zxx = scipy.signal.stft(amplitudes_array, 1/large_window)"
   ]
  },
  {
   "cell_type": "markdown",
   "metadata": {},
   "source": [
    "To plot the short-window STFT:"
   ]
  },
  {
   "cell_type": "code",
   "execution_count": 24,
   "metadata": {},
   "outputs": [
    {
     "data": {
      "text/plain": [
       "array([[ 7.79615090e-03+0.00000000e+00j,  6.28621020e-06+0.00000000e+00j,\n",
       "         2.81952519e-05+0.00000000e+00j, ...,\n",
       "        -2.77559392e-05+0.00000000e+00j,  3.44576567e-03+0.00000000e+00j,\n",
       "         4.38738401e-03+0.00000000e+00j],\n",
       "       [-7.82898903e-03-9.38345081e-04j,  6.33979199e-06-3.58476623e-06j,\n",
       "         2.84367405e-05+1.32803350e-06j, ...,\n",
       "        -2.79972699e-05-1.68806649e-06j,  4.75611655e-04+3.43465845e-03j,\n",
       "        -4.54784534e-04-4.37498314e-03j],\n",
       "       [ 7.79558516e-03+1.88292532e-03j,  6.50283161e-06-7.27244809e-06j,\n",
       "         2.91716120e-05+2.69403189e-06j, ...,\n",
       "        -2.87156659e-05-3.42134025e-06j, -3.42266273e-03+9.36551375e-04j,\n",
       "        -4.36847664e-03+9.42356790e-04j],\n",
       "       ...,\n",
       "       [ 7.81271380e-03-2.13737580e-04j, -8.29315678e-08+4.01144216e-08j,\n",
       "        -3.68152635e-07-1.50064756e-08j, ...,\n",
       "         3.61627369e-07+1.76472717e-08j, -3.85288665e-03-1.06840512e-04j,\n",
       "        -3.95988529e-03-1.06873134e-04j],\n",
       "       [-7.81228666e-03+1.06851506e-04j, -8.27554340e-08+2.00386465e-08j,\n",
       "        -3.67370886e-07-7.49933193e-09j, ...,\n",
       "         3.64283792e-07+1.14834806e-08j,  5.33213457e-05-3.85281352e-03j,\n",
       "        -5.35903039e-05+3.95967450e-03j],\n",
       "       [ 7.81271319e-03+0.00000000e+00j, -8.26953454e-08+0.00000000e+00j,\n",
       "        -3.67112274e-07+0.00000000e+00j, ...,\n",
       "         3.60637891e-07+0.00000000e+00j,  3.85273358e-03+0.00000000e+00j,\n",
       "         3.95949930e-03+0.00000000e+00j]])"
      ]
     },
     "execution_count": 24,
     "metadata": {},
     "output_type": "execute_result"
    }
   ],
   "source": [
    "s_Zxx"
   ]
  },
  {
   "cell_type": "code",
   "execution_count": 31,
   "metadata": {},
   "outputs": [
    {
     "name": "stderr",
     "output_type": "stream",
     "text": [
      "<ipython-input-31-08f24764c1bf>:2: MatplotlibDeprecationWarning: shading='flat' when X and Y have the same dimensions as C is deprecated since 3.3.  Either specify the corners of the quadrilaterals with X and Y, or pass shading='auto', 'nearest' or 'gouraud', or set rcParams['pcolor.shading'].  This will become an error two minor releases later.\n",
      "  s_plot = matplotlib.pyplot.pcolormesh(s_t, s_f, numpy.abs(s_Zxx))\n"
     ]
    },
    {
     "data": {
      "image/png": "[encoded data removed]",
      "text/plain": [
       "<Figure size 432x288 with 1 Axes>"
      ]
     },
     "metadata": {
      "needs_background": "light"
     },
     "output_type": "display_data"
    }
   ],
   "source": [
    "matplotlib.pyplot.ylim(7, 10)\n",
    "s_plot = matplotlib.pyplot.pcolormesh(s_t, s_f, numpy.abs(s_Zxx))"
   ]
  },
  {
   "cell_type": "code",
   "execution_count": null,
   "metadata": {},
   "outputs": [],
   "source": []
  }
 ],
 "metadata": {
  "kernelspec": {
   "display_name": "Python 3",
   "language": "python",
   "name": "python3"
  },
  "language_info": {
   "codemirror_mode": {
    "name": "ipython",
    "version": 3
   },
   "file_extension": ".py",
   "mimetype": "text/x-python",
   "name": "python",
   "nbconvert_exporter": "python",
   "pygments_lexer": "ipython3",
   "version": "3.9.1"
  }
 },
 "nbformat": 4,
 "nbformat_minor": 4
}
