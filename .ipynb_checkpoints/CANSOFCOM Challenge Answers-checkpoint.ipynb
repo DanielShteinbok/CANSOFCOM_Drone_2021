{
 "cells": [
  {
   "cell_type": "markdown",
   "metadata": {},
   "source": [
    "# Challenge: Machine Learning for Drone Identification\n",
    "In this Jupyter notebook are contained the short answers/invocations of appropriate code in response to the assignment components of the challenge in question. However, most of the long-winded implementation is hidden away in `.py` files we wrote, that are imported here. Thus, for this to work, it is recommended you clone the entirety of [our associated Github repo](https://github.com/DanielShteinbok/CANSOFCOM_Drone_2021), and opening the Jupyter notebook contained within that (it's this one, but its location within the repo simply ensures that local imports work properly with minimal troubleshooting).\n",
    "\n",
    "**Additional dependencies** are as follows:\n",
    "* `scipy`\n",
    "* `numpy`\n",
    "* `matplotlib`\n",
    "\n",
    "**TODO:** add further dependencies for ML...\n"
   ]
  },
  {
   "cell_type": "code",
   "execution_count": 8,
   "metadata": {},
   "outputs": [],
   "source": [
    "# This is our implementation of the signal returned from the drone\n",
    "import drone_signal\n",
    "\n",
    "# See additional dependencies:\n",
    "import scipy\n",
    "import numpy\n",
    "import matplotlib"
   ]
  },
  {
   "cell_type": "markdown",
   "metadata": {},
   "source": [
    "## 1. Implement Time-Domain Radar Return Signals from Drones\n",
    "The actual implementation for this is contained within the function `drone_signal.return_signal_array`. The variables we chose as representative values are set in a code block below, and the meanings are as follow:\n",
    "\n",
    "\n",
    "`Ar` is $A_r$ in the equation, the real scale factor,\n",
    "\n",
    "`L1` is $L_1$ in the equation, the distance of the blade roots from the centre of rotation in metres,\n",
    "\n",
    "`L2` is $L_2$ in the equation, the distance of the blade tips from the centre of rotation in metres,\n",
    "\n",
    "`N` is $N$ in the equation, number of blades,\n",
    "\n",
    "`R` is $R$ in the equation, range of the centre of rotation (distance from the radar receiver) in metres,\n",
    "\n",
    "`Vrad` is $V_{rad}$ in the equation, radial velocity in metres per second,\n",
    "\n",
    "`lam` is $\\lambda$ in the equation, the wavelength of the transmitted signal in metres,\n",
    "\n",
    "`theta` is $\\theta$ in the equation, the angle between the plane of rotation and the line of sight from the radar to the centre of rotation, in radians\n",
    "\n",
    "`fc` is $f_c$ in the equation, the transmitted frequency (assumed to be $f_c = \\frac{c}{\\lambda}$, where $c$ is the speed of light\n",
    "\n",
    "`frot` is $f_{rot}$ in the equation, the frequency of rotation in Hertz"
   ]
  },
  {
   "cell_type": "code",
   "execution_count": 9,
   "metadata": {},
   "outputs": [],
   "source": [
    "Ar = 1\n",
    "L1 = 1\n",
    "L2 = 0\n",
    "N = 4\n",
    "R = 500\n",
    "Vrad = 1\n",
    "\n",
    "theta = scipy.pi/2 #depression angle, say 30deg\n",
    "fc = 60e9 #60 GHz\n",
    "lam = 299792458/fc #wavelength wavelength = c / frequency\n",
    "fs = 1000 #sampling frequency\n",
    "frot = 60 #frequency of drone prop rotation"
   ]
  },
  {
   "cell_type": "markdown",
   "metadata": {},
   "source": [
    "The next step is to create the numpy array of the times at which the returning frequency is sampled:"
   ]
  }
 ],
 "metadata": {
  "kernelspec": {
   "display_name": "Python 3",
   "language": "python",
   "name": "python3"
  },
  "language_info": {
   "codemirror_mode": {
    "name": "ipython",
    "version": 3
   },
   "file_extension": ".py",
   "mimetype": "text/x-python",
   "name": "python",
   "nbconvert_exporter": "python",
   "pygments_lexer": "ipython3",
   "version": "3.9.1"
  }
 },
 "nbformat": 4,
 "nbformat_minor": 4
}
