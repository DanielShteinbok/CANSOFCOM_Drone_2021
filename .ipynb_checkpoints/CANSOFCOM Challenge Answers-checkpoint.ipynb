{
 "cells": [
  {
   "cell_type": "markdown",
   "metadata": {},
   "source": [
    "# Challenge: Machine Learning for Drone Identification\n",
    "In this Jupyter notebook are contained the short answers/invocations of appropriate code in response to the assignment components of the challenge in question. However, most of the long-winded implementation is hidden away in `.py` files we wrote, that are imported here. Thus, for this to work, it is recommended you clone the entirety of [our associated Github repo](https://github.com/DanielShteinbok/CANSOFCOM_Drone_2021), and opening the Jupyter notebook contained within that (it's this one, but its location within the repo simply ensures that local imports work properly with minimal troubleshooting).\n",
    "\n",
    "**Additional dependencies** are as follows:\n",
    "* `scipy`\n",
    "* `numpy`\n",
    "* `matplotlib`\n",
    "\n",
    "**TODO:** add further dependencies for ML...\n"
   ]
  },
  {
   "cell_type": "code",
   "execution_count": 17,
   "metadata": {},
   "outputs": [],
   "source": [
    "# This is our implementation of the signal returned from the drone\n",
    "import drone_signal\n",
    "\n",
    "# See additional dependencies:\n",
    "import scipy\n",
    "import numpy\n",
    "import matplotlib.pyplot"
   ]
  },
  {
   "cell_type": "markdown",
   "metadata": {},
   "source": [
    "## 1. Implement Time-Domain Radar Return Signals from Drones\n",
    "The actual implementation for this is contained within the function `drone_signal.return_signal_array`. The variables we chose as representative values are set in a code block below, and the meanings are as follow:\n",
    "\n",
    "\n",
    "`Ar` is $A_r$ in the equation, the real scale factor,\n",
    "\n",
    "`L1` is $L_1$ in the equation, the distance of the blade roots from the centre of rotation in metres,\n",
    "\n",
    "`L2` is $L_2$ in the equation, the distance of the blade tips from the centre of rotation in metres,\n",
    "\n",
    "`N` is $N$ in the equation, number of blades,\n",
    "\n",
    "`R` is $R$ in the equation, range of the centre of rotation (distance from the radar receiver) in metres,\n",
    "\n",
    "`Vrad` is $V_{rad}$ in the equation, radial velocity in metres per second,\n",
    "\n",
    "`lam` is $\\lambda$ in the equation, the wavelength of the transmitted signal in metres,\n",
    "\n",
    "`theta` is $\\theta$ in the equation, the angle between the plane of rotation and the line of sight from the radar to the centre of rotation, in radians\n",
    "\n",
    "`fc` is $f_c$ in the equation, the transmitted frequency (assumed to be $f_c = \\frac{c}{\\lambda}$, where $c$ is the speed of light\n",
    "\n",
    "`frot` is $f_{rot}$ in the equation, the frequency of rotation in Hertz"
   ]
  },
  {
   "cell_type": "code",
   "execution_count": null,
   "metadata": {},
   "outputs": [],
   "source": [
    "Ar = 1\n",
    "L1 = 0.25\n",
    "L2 = 1\n",
    "N = 4\n",
    "R = 0\n",
    "Vrad = 0\n",
    "\n",
    "theta = 0\n",
    "lam = 0.2 #wavelength wavelength = c / frequency\n",
    "fc = 299792458/lam #60 GHz\n",
    "fs = 10000000 #sampling frequency\n",
    "frot = 40 #frequency of drone prop rotation"
   ]
  },
  {
   "cell_type": "markdown",
   "metadata": {},
   "source": [
    "The next step is to create the numpy array of the times at which the returning frequency is sampled:"
   ]
  },
  {
   "cell_type": "code",
   "execution_count": null,
   "metadata": {},
   "outputs": [],
   "source": [
    "# we are looking at a 0.1 second interval starting at 0 and iterating by\n",
    "# the time between samples\n",
    "time_array = numpy.arange(0, 0.1, 1/fs)"
   ]
  },
  {
   "cell_type": "markdown",
   "metadata": {},
   "source": [
    "And now, we will actually use the written function to simulate the returned signal. The amplitude is the real component of the returned signal wave function:"
   ]
  },
  {
   "cell_type": "code",
   "execution_count": null,
   "metadata": {
    "scrolled": true
   },
   "outputs": [],
   "source": [
    "amplitudes_array = drone_signal.return_signal_array(Ar, L1, L2, N, R, Vrad, lam, theta, fc, frot, time_array).real"
   ]
  },
  {
   "cell_type": "markdown",
   "metadata": {},
   "source": [
    "Here, we plot the amplitude as a function of time over the sampled period, discarding the imaginary component. "
   ]
  },
  {
   "cell_type": "code",
   "execution_count": null,
   "metadata": {},
   "outputs": [],
   "source": [
    "matplotlib.pyplot.plot(time_array, amplitudes_array)"
   ]
  },
  {
   "cell_type": "markdown",
   "metadata": {},
   "source": [
    "For the Short-Time Fourier Transform (STFT), the two useful tapered window sizes (as per the first reference in the assignment PDF) are either smaller than the period of the rotation, or larger than the period of rotation. Respectively, the small and large window sizes we use here will be $\\frac{1}{2f_{rot}}$ and $\\frac{2}{f_{rot}}$."
   ]
  },
  {
   "cell_type": "code",
   "execution_count": null,
   "metadata": {},
   "outputs": [],
   "source": [
    "small_window = 1/(2*frot)\n",
    "large_window = 2/frot"
   ]
  },
  {
   "cell_type": "markdown",
   "metadata": {},
   "source": [
    "To plot the short-window STFT:"
   ]
  },
  {
   "cell_type": "code",
   "execution_count": null,
   "metadata": {},
   "outputs": [],
   "source": []
  }
 ],
 "metadata": {
  "kernelspec": {
   "display_name": "Python 3",
   "language": "python",
   "name": "python3"
  },
  "language_info": {
   "codemirror_mode": {
    "name": "ipython",
    "version": 3
   },
   "file_extension": ".py",
   "mimetype": "text/x-python",
   "name": "python",
   "nbconvert_exporter": "python",
   "pygments_lexer": "ipython3",
   "version": "3.9.1"
  }
 },
 "nbformat": 4,
 "nbformat_minor": 4
}
